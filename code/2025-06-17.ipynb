{
 "cells": [
  {
   "cell_type": "code",
   "execution_count": 1,
   "id": "73b45cc9-33f1-4b49-93a2-b58c2232eeea",
   "metadata": {},
   "outputs": [],
   "source": [
    "import pandas as pd\n",
    "import numpy as np\n",
    "import matplotlib.pyplot as plt\n",
    "from scipy.interpolate import make_interp_spline\n",
    "from highlight_text import ax_text, fig_text\n",
    "from drawarrow import ax_arrow"
   ]
  },
  {
   "cell_type": "code",
   "execution_count": 2,
   "id": "a42609c9-8ce7-4381-a3bc-c1c981bf8b12",
   "metadata": {},
   "outputs": [],
   "source": [
    "df1 = pd.read_csv('https://raw.githubusercontent.com/rfordatascience/tidytuesday/main/data/2025/2025-06-17/api_categories.csv')\n",
    "df2 = pd.read_csv('https://raw.githubusercontent.com/rfordatascience/tidytuesday/main/data/2025/2025-06-17/api_info.csv')\n",
    "df3 = pd.read_csv('https://raw.githubusercontent.com/rfordatascience/tidytuesday/main/data/2025/2025-06-17/api_logos.csv')\n",
    "df4 = pd.read_csv('https://raw.githubusercontent.com/rfordatascience/tidytuesday/main/data/2025/2025-06-17/api_origins.csv')\n",
    "df5 = pd.read_csv('https://raw.githubusercontent.com/rfordatascience/tidytuesday/main/data/2025/2025-06-17/apisguru_apis.csv')"
   ]
  },
  {
   "cell_type": "code",
   "execution_count": 3,
   "id": "63dc3b35-912c-4018-8374-b772d7753c4f",
   "metadata": {},
   "outputs": [
    {
     "data": {
      "text/html": [
       "<div>\n",
       "<style scoped>\n",
       "    .dataframe tbody tr th:only-of-type {\n",
       "        vertical-align: middle;\n",
       "    }\n",
       "\n",
       "    .dataframe tbody tr th {\n",
       "        vertical-align: top;\n",
       "    }\n",
       "\n",
       "    .dataframe thead th {\n",
       "        text-align: right;\n",
       "    }\n",
       "</style>\n",
       "<table border=\"1\" class=\"dataframe\">\n",
       "  <thead>\n",
       "    <tr style=\"text-align: right;\">\n",
       "      <th></th>\n",
       "      <th>name</th>\n",
       "      <th>apisguru_category</th>\n",
       "    </tr>\n",
       "  </thead>\n",
       "  <tbody>\n",
       "    <tr>\n",
       "      <th>0</th>\n",
       "      <td>1forge.com</td>\n",
       "      <td>financial</td>\n",
       "    </tr>\n",
       "  </tbody>\n",
       "</table>\n",
       "</div>"
      ],
      "text/plain": [
       "         name apisguru_category\n",
       "0  1forge.com         financial"
      ]
     },
     "execution_count": 3,
     "metadata": {},
     "output_type": "execute_result"
    }
   ],
   "source": [
    "df1.head(1)"
   ]
  },
  {
   "cell_type": "code",
   "execution_count": 4,
   "id": "4bd57591-d5a4-4eae-a422-acd6b6d2f76d",
   "metadata": {},
   "outputs": [
    {
     "data": {
      "text/html": [
       "<div>\n",
       "<style scoped>\n",
       "    .dataframe tbody tr th:only-of-type {\n",
       "        vertical-align: middle;\n",
       "    }\n",
       "\n",
       "    .dataframe tbody tr th {\n",
       "        vertical-align: top;\n",
       "    }\n",
       "\n",
       "    .dataframe thead th {\n",
       "        text-align: right;\n",
       "    }\n",
       "</style>\n",
       "<table border=\"1\" class=\"dataframe\">\n",
       "  <thead>\n",
       "    <tr style=\"text-align: right;\">\n",
       "      <th></th>\n",
       "      <th>name</th>\n",
       "      <th>contact_name</th>\n",
       "      <th>contact_url</th>\n",
       "      <th>description</th>\n",
       "      <th>title</th>\n",
       "      <th>provider_name</th>\n",
       "      <th>service_name</th>\n",
       "      <th>license_name</th>\n",
       "      <th>license_url</th>\n",
       "      <th>terms_of_service</th>\n",
       "    </tr>\n",
       "  </thead>\n",
       "  <tbody>\n",
       "    <tr>\n",
       "      <th>0</th>\n",
       "      <td>1forge.com</td>\n",
       "      <td>1Forge</td>\n",
       "      <td>http://1forge.com</td>\n",
       "      <td>Stock and Forex Data and Realtime Quotes</td>\n",
       "      <td>1Forge Finance APIs</td>\n",
       "      <td>1forge.com</td>\n",
       "      <td>NaN</td>\n",
       "      <td>NaN</td>\n",
       "      <td>NaN</td>\n",
       "      <td>NaN</td>\n",
       "    </tr>\n",
       "  </tbody>\n",
       "</table>\n",
       "</div>"
      ],
      "text/plain": [
       "         name contact_name        contact_url  \\\n",
       "0  1forge.com       1Forge  http://1forge.com   \n",
       "\n",
       "                                description                title  \\\n",
       "0  Stock and Forex Data and Realtime Quotes  1Forge Finance APIs   \n",
       "\n",
       "  provider_name service_name license_name license_url terms_of_service  \n",
       "0    1forge.com          NaN          NaN         NaN              NaN  "
      ]
     },
     "execution_count": 4,
     "metadata": {},
     "output_type": "execute_result"
    }
   ],
   "source": [
    "df2.head(1)"
   ]
  },
  {
   "cell_type": "code",
   "execution_count": 5,
   "id": "f93a432e-aea6-4605-960f-6caace020116",
   "metadata": {},
   "outputs": [
    {
     "data": {
      "text/html": [
       "<div>\n",
       "<style scoped>\n",
       "    .dataframe tbody tr th:only-of-type {\n",
       "        vertical-align: middle;\n",
       "    }\n",
       "\n",
       "    .dataframe tbody tr th {\n",
       "        vertical-align: top;\n",
       "    }\n",
       "\n",
       "    .dataframe thead th {\n",
       "        text-align: right;\n",
       "    }\n",
       "</style>\n",
       "<table border=\"1\" class=\"dataframe\">\n",
       "  <thead>\n",
       "    <tr style=\"text-align: right;\">\n",
       "      <th></th>\n",
       "      <th>name</th>\n",
       "      <th>background_color</th>\n",
       "      <th>url</th>\n",
       "      <th>alt_text</th>\n",
       "    </tr>\n",
       "  </thead>\n",
       "  <tbody>\n",
       "    <tr>\n",
       "      <th>0</th>\n",
       "      <td>1forge.com</td>\n",
       "      <td>#24292e</td>\n",
       "      <td>https://api.apis.guru/v2/cache/logo/https_1for...</td>\n",
       "      <td>NaN</td>\n",
       "    </tr>\n",
       "  </tbody>\n",
       "</table>\n",
       "</div>"
      ],
      "text/plain": [
       "         name background_color  \\\n",
       "0  1forge.com          #24292e   \n",
       "\n",
       "                                                 url alt_text  \n",
       "0  https://api.apis.guru/v2/cache/logo/https_1for...      NaN  "
      ]
     },
     "execution_count": 5,
     "metadata": {},
     "output_type": "execute_result"
    }
   ],
   "source": [
    "df3.head(1)"
   ]
  },
  {
   "cell_type": "code",
   "execution_count": 6,
   "id": "90040332-ee84-47b3-9c96-2f63f19fc027",
   "metadata": {},
   "outputs": [
    {
     "data": {
      "text/html": [
       "<div>\n",
       "<style scoped>\n",
       "    .dataframe tbody tr th:only-of-type {\n",
       "        vertical-align: middle;\n",
       "    }\n",
       "\n",
       "    .dataframe tbody tr th {\n",
       "        vertical-align: top;\n",
       "    }\n",
       "\n",
       "    .dataframe thead th {\n",
       "        text-align: right;\n",
       "    }\n",
       "</style>\n",
       "<table border=\"1\" class=\"dataframe\">\n",
       "  <thead>\n",
       "    <tr style=\"text-align: right;\">\n",
       "      <th></th>\n",
       "      <th>name</th>\n",
       "      <th>format</th>\n",
       "      <th>url</th>\n",
       "      <th>version</th>\n",
       "    </tr>\n",
       "  </thead>\n",
       "  <tbody>\n",
       "    <tr>\n",
       "      <th>0</th>\n",
       "      <td>1forge.com</td>\n",
       "      <td>swagger</td>\n",
       "      <td>http://1forge.com/openapi.json</td>\n",
       "      <td>2.0</td>\n",
       "    </tr>\n",
       "  </tbody>\n",
       "</table>\n",
       "</div>"
      ],
      "text/plain": [
       "         name   format                             url version\n",
       "0  1forge.com  swagger  http://1forge.com/openapi.json     2.0"
      ]
     },
     "execution_count": 6,
     "metadata": {},
     "output_type": "execute_result"
    }
   ],
   "source": [
    "df4.head(1)"
   ]
  },
  {
   "cell_type": "code",
   "execution_count": 7,
   "id": "80bdfde9-4a03-4e51-9873-8a84f68ba207",
   "metadata": {},
   "outputs": [
    {
     "data": {
      "text/html": [
       "<div>\n",
       "<style scoped>\n",
       "    .dataframe tbody tr th:only-of-type {\n",
       "        vertical-align: middle;\n",
       "    }\n",
       "\n",
       "    .dataframe tbody tr th {\n",
       "        vertical-align: top;\n",
       "    }\n",
       "\n",
       "    .dataframe thead th {\n",
       "        text-align: right;\n",
       "    }\n",
       "</style>\n",
       "<table border=\"1\" class=\"dataframe\">\n",
       "  <thead>\n",
       "    <tr style=\"text-align: right;\">\n",
       "      <th></th>\n",
       "      <th>name</th>\n",
       "      <th>version</th>\n",
       "      <th>added</th>\n",
       "      <th>updated</th>\n",
       "      <th>swagger_url</th>\n",
       "      <th>openapi_ver</th>\n",
       "      <th>link</th>\n",
       "      <th>external_docs_description</th>\n",
       "      <th>external_docs_url</th>\n",
       "    </tr>\n",
       "  </thead>\n",
       "  <tbody>\n",
       "    <tr>\n",
       "      <th>0</th>\n",
       "      <td>1forge.com</td>\n",
       "      <td>0.0.1</td>\n",
       "      <td>2017-05-30T08:34:14Z</td>\n",
       "      <td>2017-06-27T16:49:57Z</td>\n",
       "      <td>https://api.apis.guru/v2/specs/1forge.com/0.0....</td>\n",
       "      <td>2.0</td>\n",
       "      <td>https://api.apis.guru/v2/specs/1forge.com/0.0....</td>\n",
       "      <td>NaN</td>\n",
       "      <td>NaN</td>\n",
       "    </tr>\n",
       "  </tbody>\n",
       "</table>\n",
       "</div>"
      ],
      "text/plain": [
       "         name version                 added               updated  \\\n",
       "0  1forge.com   0.0.1  2017-05-30T08:34:14Z  2017-06-27T16:49:57Z   \n",
       "\n",
       "                                         swagger_url openapi_ver  \\\n",
       "0  https://api.apis.guru/v2/specs/1forge.com/0.0....         2.0   \n",
       "\n",
       "                                                link  \\\n",
       "0  https://api.apis.guru/v2/specs/1forge.com/0.0....   \n",
       "\n",
       "  external_docs_description external_docs_url  \n",
       "0                       NaN               NaN  "
      ]
     },
     "execution_count": 7,
     "metadata": {},
     "output_type": "execute_result"
    }
   ],
   "source": [
    "df5.head(1)"
   ]
  },
  {
   "cell_type": "code",
   "execution_count": 8,
   "id": "e98ca403-ca64-47ee-9afe-e46cff7ca0e5",
   "metadata": {},
   "outputs": [],
   "source": [
    "df5[\"year\"] = pd.to_datetime(df5[\"added\"]).dt.year"
   ]
  },
  {
   "cell_type": "code",
   "execution_count": 9,
   "id": "83706b92",
   "metadata": {},
   "outputs": [],
   "source": [
    "df5[\"date\"] = pd.to_datetime(df5[\"added\"]).dt.date"
   ]
  },
  {
   "cell_type": "code",
   "execution_count": 10,
   "id": "e1e550dd-0ba4-4708-ad5e-1208051aef92",
   "metadata": {},
   "outputs": [],
   "source": [
    "df5 = df5[[\"name\", \"year\", \"date\"]]"
   ]
  },
  {
   "cell_type": "code",
   "execution_count": 11,
   "id": "497d94b3-b163-4d33-acdd-766b04fb3fd0",
   "metadata": {},
   "outputs": [],
   "source": [
    "dfm = pd.merge(df5, df4, on=\"name\")"
   ]
  },
  {
   "cell_type": "code",
   "execution_count": 12,
   "id": "cd35cd20-94ed-47a0-a0c4-82c9397093d2",
   "metadata": {},
   "outputs": [],
   "source": [
    "dfm = dfm.drop(columns=\"url\")"
   ]
  },
  {
   "cell_type": "code",
   "execution_count": 13,
   "id": "c00636bd-6dc2-438a-aa6c-8f06612b616b",
   "metadata": {},
   "outputs": [],
   "source": [
    "df = pd.merge(dfm, df1, on=\"name\")"
   ]
  },
  {
   "cell_type": "code",
   "execution_count": 14,
   "id": "f0ce2065-be54-4d91-ab67-e875fd6258ec",
   "metadata": {},
   "outputs": [],
   "source": [
    "df[\"apisguru_category\"] = df[\"apisguru_category\"].str.replace(\"_\", \" \")"
   ]
  },
  {
   "cell_type": "code",
   "execution_count": 15,
   "id": "ef8e4f51-fc36-4f71-88da-f363417506e4",
   "metadata": {},
   "outputs": [],
   "source": [
    "df[\"format\"] = df[\"format\"].fillna(\"other\")\n",
    "df[\"apisguru_category\"] = df[\"apisguru_category\"].fillna(\"other\")"
   ]
  },
  {
   "cell_type": "code",
   "execution_count": 16,
   "id": "d353c266-9aef-4406-bf8c-f9a011de88a7",
   "metadata": {},
   "outputs": [],
   "source": [
    "df[\"date\"] = pd.to_datetime(df[\"date\"])"
   ]
  },
  {
   "cell_type": "code",
   "execution_count": 17,
   "id": "452fcd31-17c0-4bcb-a843-c6a97cff78af",
   "metadata": {},
   "outputs": [],
   "source": [
    "df = df.sort_values(by=\"date\")"
   ]
  },
  {
   "cell_type": "code",
   "execution_count": 18,
   "id": "ee3ecf4a-f40b-46d0-a2f0-8da78c139078",
   "metadata": {},
   "outputs": [
    {
     "data": {
      "text/plain": [
       "format\n",
       "swagger         1029\n",
       "openapi          965\n",
       "google           502\n",
       "other            273\n",
       "postman           14\n",
       "wadl               5\n",
       "apiBlueprint       3\n",
       "Name: count, dtype: int64"
      ]
     },
     "execution_count": 18,
     "metadata": {},
     "output_type": "execute_result"
    }
   ],
   "source": [
    "df[\"format\"].value_counts()"
   ]
  },
  {
   "cell_type": "code",
   "execution_count": 19,
   "id": "8f413742-6aaa-43b3-a26a-db3320e6c497",
   "metadata": {},
   "outputs": [],
   "source": [
    "other_formats = [\"postman\", \"wadl\", \"apiBlueprint\"]\n",
    "df.loc[df[\"format\"].isin(other_formats), \"format\"] = \"other\""
   ]
  },
  {
   "cell_type": "code",
   "execution_count": 20,
   "id": "4c0ab2bf-c2ca-4c95-9817-4858b62f8c4b",
   "metadata": {},
   "outputs": [],
   "source": [
    "df_count = df.groupby([\"year\", \"format\"])[\"format\"].value_counts().reset_index(name=\"count\")"
   ]
  },
  {
   "cell_type": "code",
   "execution_count": 21,
   "id": "79250f7b-469b-41d5-a722-1ad502fe06ef",
   "metadata": {},
   "outputs": [
    {
     "data": {
      "text/html": [
       "<div>\n",
       "<style scoped>\n",
       "    .dataframe tbody tr th:only-of-type {\n",
       "        vertical-align: middle;\n",
       "    }\n",
       "\n",
       "    .dataframe tbody tr th {\n",
       "        vertical-align: top;\n",
       "    }\n",
       "\n",
       "    .dataframe thead th {\n",
       "        text-align: right;\n",
       "    }\n",
       "</style>\n",
       "<table border=\"1\" class=\"dataframe\">\n",
       "  <thead>\n",
       "    <tr style=\"text-align: right;\">\n",
       "      <th></th>\n",
       "      <th>year</th>\n",
       "      <th>format</th>\n",
       "      <th>count</th>\n",
       "    </tr>\n",
       "  </thead>\n",
       "  <tbody>\n",
       "    <tr>\n",
       "      <th>0</th>\n",
       "      <td>2015</td>\n",
       "      <td>google</td>\n",
       "      <td>2</td>\n",
       "    </tr>\n",
       "    <tr>\n",
       "      <th>1</th>\n",
       "      <td>2015</td>\n",
       "      <td>openapi</td>\n",
       "      <td>23</td>\n",
       "    </tr>\n",
       "  </tbody>\n",
       "</table>\n",
       "</div>"
      ],
      "text/plain": [
       "   year   format  count\n",
       "0  2015   google      2\n",
       "1  2015  openapi     23"
      ]
     },
     "execution_count": 21,
     "metadata": {},
     "output_type": "execute_result"
    }
   ],
   "source": [
    "df_count.head(2)"
   ]
  },
  {
   "cell_type": "code",
   "execution_count": 22,
   "id": "83e79e5a-e4e2-46cd-b4e5-a971c504abba",
   "metadata": {},
   "outputs": [],
   "source": [
    "pivot_df = df_count.pivot_table(index='year', columns='format', values='count', sort=False)"
   ]
  },
  {
   "cell_type": "code",
   "execution_count": 23,
   "id": "2b49b605-e3b5-436c-8d93-0f8741d723f6",
   "metadata": {},
   "outputs": [],
   "source": [
    "pivot_df = pivot_df.fillna(0)"
   ]
  },
  {
   "cell_type": "code",
   "execution_count": 24,
   "id": "33b119ff-ea36-474e-8729-e01a5edc27a3",
   "metadata": {},
   "outputs": [
    {
     "data": {
      "text/html": [
       "<div>\n",
       "<style scoped>\n",
       "    .dataframe tbody tr th:only-of-type {\n",
       "        vertical-align: middle;\n",
       "    }\n",
       "\n",
       "    .dataframe tbody tr th {\n",
       "        vertical-align: top;\n",
       "    }\n",
       "\n",
       "    .dataframe thead th {\n",
       "        text-align: right;\n",
       "    }\n",
       "</style>\n",
       "<table border=\"1\" class=\"dataframe\">\n",
       "  <thead>\n",
       "    <tr style=\"text-align: right;\">\n",
       "      <th>format</th>\n",
       "      <th>google</th>\n",
       "      <th>openapi</th>\n",
       "      <th>swagger</th>\n",
       "      <th>other</th>\n",
       "    </tr>\n",
       "    <tr>\n",
       "      <th>year</th>\n",
       "      <th></th>\n",
       "      <th></th>\n",
       "      <th></th>\n",
       "      <th></th>\n",
       "    </tr>\n",
       "  </thead>\n",
       "  <tbody>\n",
       "    <tr>\n",
       "      <th>2015</th>\n",
       "      <td>2.0</td>\n",
       "      <td>23.0</td>\n",
       "      <td>54.0</td>\n",
       "      <td>0.0</td>\n",
       "    </tr>\n",
       "    <tr>\n",
       "      <th>2016</th>\n",
       "      <td>0.0</td>\n",
       "      <td>35.0</td>\n",
       "      <td>43.0</td>\n",
       "      <td>0.0</td>\n",
       "    </tr>\n",
       "  </tbody>\n",
       "</table>\n",
       "</div>"
      ],
      "text/plain": [
       "format  google  openapi  swagger  other\n",
       "year                                   \n",
       "2015       2.0     23.0     54.0    0.0\n",
       "2016       0.0     35.0     43.0    0.0"
      ]
     },
     "execution_count": 24,
     "metadata": {},
     "output_type": "execute_result"
    }
   ],
   "source": [
    "pivot_df.head(2)"
   ]
  },
  {
   "cell_type": "code",
   "execution_count": 25,
   "id": "2a9ada73-c7c8-48f9-89d8-cfa462fc7c13",
   "metadata": {},
   "outputs": [],
   "source": [
    "df_grouped=df.groupby([\"format\", \"apisguru_category\"])[\"apisguru_category\"].value_counts().reset_index(name=\"count\").sort_values(by=[\"format\", \"count\"], ascending=[True, False]) "
   ]
  },
  {
   "cell_type": "code",
   "execution_count": 26,
   "id": "7e3b7a7c-9b38-44e2-90c9-e73068f5688c",
   "metadata": {},
   "outputs": [
    {
     "data": {
      "text/html": [
       "<div>\n",
       "<style scoped>\n",
       "    .dataframe tbody tr th:only-of-type {\n",
       "        vertical-align: middle;\n",
       "    }\n",
       "\n",
       "    .dataframe tbody tr th {\n",
       "        vertical-align: top;\n",
       "    }\n",
       "\n",
       "    .dataframe thead th {\n",
       "        text-align: right;\n",
       "    }\n",
       "</style>\n",
       "<table border=\"1\" class=\"dataframe\">\n",
       "  <thead>\n",
       "    <tr style=\"text-align: right;\">\n",
       "      <th></th>\n",
       "      <th>format</th>\n",
       "      <th>apisguru_category</th>\n",
       "      <th>count</th>\n",
       "      <th>percent</th>\n",
       "    </tr>\n",
       "  </thead>\n",
       "  <tbody>\n",
       "    <tr>\n",
       "      <th>0</th>\n",
       "      <td>google</td>\n",
       "      <td>analytics</td>\n",
       "      <td>250</td>\n",
       "      <td>49.800797</td>\n",
       "    </tr>\n",
       "  </tbody>\n",
       "</table>\n",
       "</div>"
      ],
      "text/plain": [
       "   format apisguru_category  count    percent\n",
       "0  google         analytics    250  49.800797"
      ]
     },
     "execution_count": 26,
     "metadata": {},
     "output_type": "execute_result"
    }
   ],
   "source": [
    "google = df_grouped[df_grouped[\"format\"] == \"google\"]\n",
    "google_cat = google[\"apisguru_category\"].value_counts().sum()\n",
    "google_total = google[\"count\"].sum()\n",
    "google = google.copy()\n",
    "google[\"percent\"] = (google[\"count\"] / google_total)*100\n",
    "google.head(1)"
   ]
  },
  {
   "cell_type": "code",
   "execution_count": 27,
   "id": "3a601238-48ad-4871-b07b-94b4323f78e6",
   "metadata": {},
   "outputs": [
    {
     "data": {
      "text/html": [
       "<div>\n",
       "<style scoped>\n",
       "    .dataframe tbody tr th:only-of-type {\n",
       "        vertical-align: middle;\n",
       "    }\n",
       "\n",
       "    .dataframe tbody tr th {\n",
       "        vertical-align: top;\n",
       "    }\n",
       "\n",
       "    .dataframe thead th {\n",
       "        text-align: right;\n",
       "    }\n",
       "</style>\n",
       "<table border=\"1\" class=\"dataframe\">\n",
       "  <thead>\n",
       "    <tr style=\"text-align: right;\">\n",
       "      <th></th>\n",
       "      <th>format</th>\n",
       "      <th>apisguru_category</th>\n",
       "      <th>count</th>\n",
       "      <th>percent</th>\n",
       "    </tr>\n",
       "  </thead>\n",
       "  <tbody>\n",
       "    <tr>\n",
       "      <th>28</th>\n",
       "      <td>openapi</td>\n",
       "      <td>open data</td>\n",
       "      <td>266</td>\n",
       "      <td>27.564767</td>\n",
       "    </tr>\n",
       "  </tbody>\n",
       "</table>\n",
       "</div>"
      ],
      "text/plain": [
       "     format apisguru_category  count    percent\n",
       "28  openapi         open data    266  27.564767"
      ]
     },
     "execution_count": 27,
     "metadata": {},
     "output_type": "execute_result"
    }
   ],
   "source": [
    "openapi = df_grouped[df_grouped[\"format\"] == \"openapi\"]\n",
    "openapi_cat = openapi[\"apisguru_category\"].value_counts().sum()\n",
    "openapi_total = openapi[\"count\"].sum()\n",
    "openapi = openapi.copy()\n",
    "openapi[\"percent\"] = (openapi[\"count\"] / openapi_total)*100\n",
    "openapi.head(1)"
   ]
  },
  {
   "cell_type": "code",
   "execution_count": 28,
   "id": "db9349e1-a606-4ac1-b80a-acd831559351",
   "metadata": {},
   "outputs": [
    {
     "data": {
      "text/html": [
       "<div>\n",
       "<style scoped>\n",
       "    .dataframe tbody tr th:only-of-type {\n",
       "        vertical-align: middle;\n",
       "    }\n",
       "\n",
       "    .dataframe tbody tr th {\n",
       "        vertical-align: top;\n",
       "    }\n",
       "\n",
       "    .dataframe thead th {\n",
       "        text-align: right;\n",
       "    }\n",
       "</style>\n",
       "<table border=\"1\" class=\"dataframe\">\n",
       "  <thead>\n",
       "    <tr style=\"text-align: right;\">\n",
       "      <th></th>\n",
       "      <th>format</th>\n",
       "      <th>apisguru_category</th>\n",
       "      <th>count</th>\n",
       "      <th>percent</th>\n",
       "    </tr>\n",
       "  </thead>\n",
       "  <tbody>\n",
       "    <tr>\n",
       "      <th>59</th>\n",
       "      <td>swagger</td>\n",
       "      <td>cloud</td>\n",
       "      <td>671</td>\n",
       "      <td>65.208941</td>\n",
       "    </tr>\n",
       "  </tbody>\n",
       "</table>\n",
       "</div>"
      ],
      "text/plain": [
       "     format apisguru_category  count    percent\n",
       "59  swagger             cloud    671  65.208941"
      ]
     },
     "execution_count": 28,
     "metadata": {},
     "output_type": "execute_result"
    }
   ],
   "source": [
    "swagger = df_grouped[df_grouped[\"format\"] == \"swagger\"]\n",
    "swagger_cat = swagger[\"apisguru_category\"].value_counts().sum()\n",
    "swagger_total = swagger[\"count\"].sum()\n",
    "swagger = swagger.copy()\n",
    "swagger[\"percent\"] = (swagger[\"count\"] / swagger_total)*100\n",
    "swagger.head(1)"
   ]
  },
  {
   "cell_type": "code",
   "execution_count": 29,
   "id": "6ba13e82-2fb7-4d43-b49c-d15fd978b87b",
   "metadata": {},
   "outputs": [
    {
     "data": {
      "text/html": [
       "<div>\n",
       "<style scoped>\n",
       "    .dataframe tbody tr th:only-of-type {\n",
       "        vertical-align: middle;\n",
       "    }\n",
       "\n",
       "    .dataframe tbody tr th {\n",
       "        vertical-align: top;\n",
       "    }\n",
       "\n",
       "    .dataframe thead th {\n",
       "        text-align: right;\n",
       "    }\n",
       "</style>\n",
       "<table border=\"1\" class=\"dataframe\">\n",
       "  <thead>\n",
       "    <tr style=\"text-align: right;\">\n",
       "      <th></th>\n",
       "      <th>format</th>\n",
       "      <th>apisguru_category</th>\n",
       "      <th>count</th>\n",
       "      <th>percent</th>\n",
       "    </tr>\n",
       "  </thead>\n",
       "  <tbody>\n",
       "    <tr>\n",
       "      <th>46</th>\n",
       "      <td>other</td>\n",
       "      <td>cloud</td>\n",
       "      <td>271</td>\n",
       "      <td>91.864407</td>\n",
       "    </tr>\n",
       "  </tbody>\n",
       "</table>\n",
       "</div>"
      ],
      "text/plain": [
       "   format apisguru_category  count    percent\n",
       "46  other             cloud    271  91.864407"
      ]
     },
     "execution_count": 29,
     "metadata": {},
     "output_type": "execute_result"
    }
   ],
   "source": [
    "other = df_grouped[df_grouped[\"format\"] == \"other\"]\n",
    "other_cat = other[\"apisguru_category\"].value_counts().sum()\n",
    "other_total = other[\"count\"].sum()\n",
    "other = other.copy()\n",
    "other[\"percent\"] = (other[\"count\"] / other_total)*100\n",
    "other.head(1)"
   ]
  },
  {
   "cell_type": "code",
   "execution_count": 45,
   "id": "d7f5fa5f-4afa-4fe2-9010-93970dabe199",
   "metadata": {},
   "outputs": [
    {
     "data": {
      "image/png": "[encoded data removed]",
      "text/plain": [
       "<Figure size 1000x600 with 1 Axes>"
      ]
     },
     "metadata": {},
     "output_type": "display_data"
    }
   ],
   "source": [
    "colors = [\"#FF6F61\", \"#FF9A2C\", \"#A6D8D3\", \"#5D3F6A\"]\n",
    "\n",
    "x_smooth = np.linspace(pivot_df.index.min(), pivot_df.index.max(), 100)\n",
    "pivot_smooth = pd.DataFrame({format: make_interp_spline(pivot_df.index, pivot_df[format])(x_smooth)\n",
    "                             for format in pivot_df.columns})\n",
    "\n",
    "fig, ax = plt.subplots(figsize=(10, 6))  \n",
    "ax.stackplot(x_smooth,\n",
    "              pivot_smooth.values.T,\n",
    "              colors=colors,              \n",
    "              baseline='wiggle')              \n",
    "\n",
    "ax.set_ylabel('Number of added APIs', color=\"white\", size=8) \n",
    "\n",
    "ax_arrow(\n",
    "  [2016.2, 50],\n",
    "  [2016, 260],\n",
    "  color=\"white\",\n",
    "  radius=-0.5\n",
    ")\n",
    "\n",
    "ax.text(2014.8, 280, s=f'{swagger_total} APIs in {swagger_cat} categories.\\n{swagger.iloc[0, -1]:.1f}% of APIs in {swagger.iloc[0, 1]} category.',\n",
    "       size=8, color=\"white\")\n",
    "\n",
    "ax_arrow(\n",
    "  [2020.5, 290],\n",
    "  [2021.5, 320],\n",
    "  color=\"white\",\n",
    "  radius=-0.5\n",
    ")\n",
    "\n",
    "ax.text(2021.5, 290, s=f'{other_total} APIs in {other_cat} categories.\\n{other.iloc[0, -1]:.1f}% of APIs in {other.iloc[0, 1]} category.',\n",
    "       size=8, color=\"white\")\n",
    "\n",
    "ax_arrow(\n",
    "  [2016.3, -50],\n",
    "  [2016.2, -320],\n",
    "  color=\"white\",\n",
    "  radius=0.5\n",
    ")\n",
    "\n",
    "ax.text(2016.2, -360, s=f'{openapi_total} APIs in {openapi_cat} categories.\\n{openapi.iloc[0, -1]:.1f}% of APIs in {openapi.iloc[0, 1]} category.',\n",
    "       size=8, color=\"white\")\n",
    "\n",
    "ax_arrow(\n",
    "  [2020.8, -380],\n",
    "  [2022, -370],\n",
    "  color=\"white\",\n",
    "  radius=0.5\n",
    ")\n",
    "\n",
    "ax.text(2022, -380, s=f'{google_total} APIs in {google_cat} categories.\\n{google.iloc[0, -1]:.1f}% of APIs in {google.iloc[0, 1]} category.',\n",
    "       size=8, color=\"white\")\n",
    "\n",
    "location = [-400, -200, 0, 200, 400]\n",
    "labels = [\"400\", \"200\", \"0\", \"200\", \"400\"]\n",
    "ax.set_yticks(location, labels=labels)\n",
    "\n",
    "ax.spines[[\"top\", \"bottom\", \"left\", \"right\"]].set_visible(False)\n",
    "ax.tick_params(length=0)\n",
    "\n",
    "ax.tick_params(axis=\"both\", labelsize=8, labelcolor=\"white\")\n",
    "\n",
    "ax.set_facecolor(\"#26282A\") \n",
    "fig.set_facecolor(\"#26282A\")  \n",
    "\n",
    "fig_text(\n",
    "    x=0.15, y=1,\n",
    "    s=\"Evolution of <Google>, <OpenApi>, <Swagger> and <Other> APIs\",\n",
    "    color=\"white\",\n",
    "    ax=ax, size=20,\n",
    "    highlight_textprops=[\n",
    "        {\"color\": colors[0], \"weight\": \"bold\"},\n",
    "        {\"color\": colors[1], \"weight\": \"bold\"},\n",
    "        {\"color\": colors[2], \"weight\": \"bold\"},\n",
    "        {\"color\": colors[3], \"weight\": \"bold\"},\n",
    "  ])\n",
    "\n",
    "fig.text(0.15, 0.05, \"Data: TidyTuesday 2025-06-17 (API Specs) | Design: Bernadett Piros\",\n",
    "         size=8, color=\"white\")\n",
    "\n",
    "#plt.show()\n",
    "\n",
    "fig.savefig(\"2025-06-17.png\", bbox_inches='tight', pad_inches=0.2)"
   ]
  },
  {
   "cell_type": "code",
   "execution_count": null,
   "id": "e8137d48-4e3d-4bd7-a00d-5674f016e53c",
   "metadata": {},
   "outputs": [],
   "source": []
  }
 ],
 "metadata": {
  "kernelspec": {
   "display_name": "Python 3 (ipykernel)",
   "language": "python",
   "name": "python3"
  },
  "language_info": {
   "codemirror_mode": {
    "name": "ipython",
    "version": 3
   },
   "file_extension": ".py",
   "mimetype": "text/x-python",
   "name": "python",
   "nbconvert_exporter": "python",
   "pygments_lexer": "ipython3",
   "version": "3.13.2"
  }
 },
 "nbformat": 4,
 "nbformat_minor": 5
}
